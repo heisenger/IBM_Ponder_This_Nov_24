{
 "cells": [
  {
   "cell_type": "code",
   "execution_count": 210,
   "metadata": {},
   "outputs": [],
   "source": [
    "import numpy as np\n",
    "import pandas as pd\n",
    "import math\n",
    "from decimal import Decimal\n"
   ]
  },
  {
   "cell_type": "code",
   "execution_count": 211,
   "metadata": {},
   "outputs": [],
   "source": [
    "def implied_height_2(n):\n",
    "    n = Decimal(n)\n",
    "    return Decimal(4) * (n**6 + Decimal(2)) / (Decimal(3) * n**4)"
   ]
  },
  {
   "cell_type": "code",
   "execution_count": 212,
   "metadata": {},
   "outputs": [],
   "source": [
    "def implied_height(n):\n",
    "    return (4/3)*n**2 + (8/(3*n**4))"
   ]
  },
  {
   "cell_type": "code",
   "execution_count": null,
   "metadata": {},
   "outputs": [
    {
     "name": "stdout",
     "output_type": "stream",
     "text": [
      "[3, 3, 5, 5, 11, 19, 29, 241]\n"
     ]
    }
   ],
   "source": [
    "def prime_factors(n):\n",
    "    i = 2\n",
    "    factors = []\n",
    "    while i * i <= n:\n",
    "        if n % i:\n",
    "            i += 1\n",
    "        else:\n",
    "            n //= i\n",
    "            factors.append(i)\n",
    "    if n > 1:\n",
    "        factors.append(n)\n",
    "    return factors\n",
    "\n",
    "# Example usage:\n",
    "number = 328657725\n",
    "print(prime_factors(number))"
   ]
  },
  {
   "cell_type": "code",
   "execution_count": 213,
   "metadata": {},
   "outputs": [],
   "source": [
    "def check_perfect(num):\n",
    "    sqrt_num = int(math.sqrt(num))\n",
    "    return sqrt_num * sqrt_num == num"
   ]
  },
  {
   "cell_type": "code",
   "execution_count": 209,
   "metadata": {},
   "outputs": [
    {
     "name": "stdout",
     "output_type": "stream",
     "text": [
      "1 4.0\n"
     ]
    }
   ],
   "source": [
    "i = 2\n",
    "while True:\n",
    "    ratio = implied_height_2(i)   \n",
    "    is_perfect_square = ratio.sqrt() == int(ratio.sqrt())\n",
    "    if is_perfect_square:\n",
    "        print(i, implied_height(i))\n",
    "        break\n",
    "    i += 1"
   ]
  },
  {
   "cell_type": "code",
   "execution_count": null,
   "metadata": {},
   "outputs": [
    {
     "name": "stdout",
     "output_type": "stream",
     "text": [
      "144021200269567500.00000000000000000000000000000000\n",
      "Is the ratio a perfect square? False\n"
     ]
    }
   ],
   "source": [
    "\n",
    "# Define the two very large numbers\n",
    "num1 = Decimal('5041073847164289485924014468884013249114883789062502')\n",
    "num2 = Decimal('35002304089459092677249950032421875')\n",
    "\n",
    "# Calculate the ratio\n",
    "ratio = num1 / num2\n",
    "\n",
    "print(ratio)\n",
    "# Check if the ratio is a perfect square\n",
    "is_perfect_square = ratio.sqrt() == int(ratio.sqrt())\n",
    "print(f\"Is the ratio a perfect square? {is_perfect_square}\")"
   ]
  },
  {
   "cell_type": "code",
   "execution_count": 192,
   "metadata": {},
   "outputs": [],
   "source": [
    "factor = Decimal('328657725')\n",
    "x = 2*factor\n",
    "y = 2*factor\n",
    "z = 2*factor\n",
    "a = 379501252\n",
    "b = 379501252\n",
    "c = 379501252"
   ]
  },
  {
   "cell_type": "code",
   "execution_count": 194,
   "metadata": {},
   "outputs": [],
   "source": [
    "x, y, z, a, b, c = 2, 2, 2, np.sqrt(8), 2, 2"
   ]
  },
  {
   "cell_type": "code",
   "execution_count": 208,
   "metadata": {},
   "outputs": [
    {
     "data": {
      "text/plain": [
       "14.4375"
      ]
     },
     "execution_count": 208,
     "metadata": {},
     "output_type": "execute_result"
    }
   ],
   "source": [
    "5**2 - 3.25**2"
   ]
  },
  {
   "cell_type": "code",
   "execution_count": 195,
   "metadata": {},
   "outputs": [
    {
     "name": "stdout",
     "output_type": "stream",
     "text": [
      "127.99999999999998250032983638547181861778100833927\n",
      "0.94280904158206330141917039312035644320954609853108\n"
     ]
    }
   ],
   "source": [
    "from decimal import Decimal, getcontext\n",
    "\n",
    "# Set the precision high enough to avoid overflow\n",
    "getcontext().prec = 50\n",
    "\n",
    "# Convert all variables to Decimal\n",
    "a_dec = Decimal(a)\n",
    "b_dec = Decimal(b)\n",
    "c_dec = Decimal(c)\n",
    "x_dec = Decimal(x)\n",
    "y_dec = Decimal(y)\n",
    "z_dec = Decimal(z)\n",
    "\n",
    "# Calculate volume_squared with high precision\n",
    "volume_squared_dec = (4*a_dec**2*b_dec**2*c_dec**2 - \n",
    "\t\t\t\t\t  a_dec**2*(b_dec**2 + c_dec**2 - x_dec**2)**2 - \n",
    "\t\t\t\t\t  b_dec**2*(a_dec**2 + c_dec**2 - y_dec**2)**2 - \n",
    "\t\t\t\t\t  c_dec**2*(a_dec**2 + b_dec**2 - z_dec**2)**2 + \n",
    "\t\t\t\t\t  (b_dec**2 + c_dec**2 - x_dec**2)*(a_dec**2 + c_dec**2 - y_dec**2)*(a_dec**2 + b_dec**2 - z_dec**2))\n",
    "\n",
    "print(volume_squared_dec)\n",
    "# Calculate volume with high precision\n",
    "volume_dec = volume_squared_dec.sqrt() / Decimal(12.0)\n",
    "\n",
    "print(volume_dec)"
   ]
  },
  {
   "cell_type": "code",
   "execution_count": 215,
   "metadata": {},
   "outputs": [],
   "source": [
    "# Given an equilateral triangle with side length 2, the height is sqrt(3). Can we find another triangle with the same area of integer sides?\n",
    "h = np.sqrt(3)\n",
    "a = 2\n",
    "for i in range(2, 100000):\n",
    "    b = np.sqrt(i**2 - h**2) - a \n",
    "    if np.sqrt(b**2 + h**2).is_integer():\n",
    "        print(i, b)"
   ]
  },
  {
   "cell_type": "code",
   "execution_count": null,
   "metadata": {},
   "outputs": [],
   "source": [
    "a = (2 / np.sqrt(3)) * factor\n",
    "h = np.sqrt(8/3) / (factor**2)\n",
    "d = factor / np.sqrt(3)\n",
    "c = 379501252"
   ]
  },
  {
   "cell_type": "code",
   "execution_count": 239,
   "metadata": {},
   "outputs": [
    {
     "name": "stdout",
     "output_type": "stream",
     "text": [
      "2 2 2\n"
     ]
    },
    {
     "ename": "KeyboardInterrupt",
     "evalue": "",
     "output_type": "error",
     "traceback": [
      "\u001b[0;31m---------------------------------------------------------------------------\u001b[0m",
      "\u001b[0;31mKeyboardInterrupt\u001b[0m                         Traceback (most recent call last)",
      "Cell \u001b[0;32mIn[239], line 16\u001b[0m\n\u001b[1;32m     13\u001b[0m \u001b[38;5;28;01mfor\u001b[39;00m j \u001b[38;5;129;01min\u001b[39;00m \u001b[38;5;28mrange\u001b[39m(\u001b[38;5;241m1\u001b[39m, i\u001b[38;5;241m+\u001b[39m\u001b[38;5;241m1\u001b[39m):\n\u001b[1;32m     14\u001b[0m     \u001b[38;5;28;01mfor\u001b[39;00m k \u001b[38;5;129;01min\u001b[39;00m \u001b[38;5;28mrange\u001b[39m(i\u001b[38;5;241m-\u001b[39mj, j\u001b[38;5;241m+\u001b[39m\u001b[38;5;241m1\u001b[39m):\n\u001b[1;32m     15\u001b[0m         \u001b[38;5;66;03m# print(i, j, k)\u001b[39;00m\n\u001b[0;32m---> 16\u001b[0m         \u001b[38;5;28;01mif\u001b[39;00m \u001b[43mherons_formula\u001b[49m\u001b[43m(\u001b[49m\u001b[43mi\u001b[49m\u001b[43m,\u001b[49m\u001b[43m \u001b[49m\u001b[43mj\u001b[49m\u001b[43m,\u001b[49m\u001b[43m \u001b[49m\u001b[43mk\u001b[49m\u001b[43m)\u001b[49m \u001b[38;5;241m==\u001b[39m target_area:\n\u001b[1;32m     17\u001b[0m             \u001b[38;5;28mprint\u001b[39m(i, j, k)\n\u001b[1;32m     18\u001b[0m             \u001b[38;5;28;01mbreak\u001b[39;00m\n",
      "\u001b[0;31mKeyboardInterrupt\u001b[0m: "
     ]
    }
   ],
   "source": [
    "def herons_formula(a, b, c):\n",
    "    # Calculate the semi-perimeter\n",
    "    s = (a + b + c) / 2\n",
    "    \n",
    "    # Calculate the area using Heron's formula\n",
    "    area = (s * (s - a) * (s - b) * (s - c))\n",
    "    \n",
    "    return area\n",
    "\n",
    "target_area = herons_formula(2, 2, 2)\n",
    "\n",
    "for i in range(1, 100000):\n",
    "    for j in range(1, i+1):\n",
    "        for k in range(i-j, j+1):\n",
    "            # print(i, j, k)\n",
    "            if herons_formula(i, j, k) == target_area:\n",
    "                print(i, j, k)\n",
    "                break\n",
    "        else:\n",
    "            continue\n",
    "        break"
   ]
  },
  {
   "cell_type": "code",
   "execution_count": null,
   "metadata": {},
   "outputs": [],
   "source": []
  }
 ],
 "metadata": {
  "kernelspec": {
   "display_name": "BayesianDL",
   "language": "python",
   "name": "python3"
  },
  "language_info": {
   "codemirror_mode": {
    "name": "ipython",
    "version": 3
   },
   "file_extension": ".py",
   "mimetype": "text/x-python",
   "name": "python",
   "nbconvert_exporter": "python",
   "pygments_lexer": "ipython3",
   "version": "3.10.13"
  }
 },
 "nbformat": 4,
 "nbformat_minor": 2
}
