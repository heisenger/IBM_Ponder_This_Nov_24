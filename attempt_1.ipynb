{
 "cells": [
  {
   "cell_type": "code",
   "execution_count": 4,
   "metadata": {},
   "outputs": [
    {
     "name": "stdout",
     "output_type": "stream",
     "text": [
      "No solution found.\n"
     ]
    }
   ],
   "source": [
    "from ortools.sat.python import cp_model\n",
    "\n",
    "var_range = 500\n",
    "\n",
    "# Create the model\n",
    "model = cp_model.CpModel()\n",
    "\n",
    "# Define integer variables for edge lengths a, b, c, d, e, f\n",
    "a = model.NewIntVar(1, var_range, \"a\")\n",
    "b = model.NewIntVar(1, var_range, \"b\")\n",
    "c = model.NewIntVar(1, var_range, \"c\")\n",
    "d = model.NewIntVar(1, var_range, \"d\")\n",
    "e = model.NewIntVar(1, var_range, \"e\")\n",
    "f = model.NewIntVar(1, var_range, \"f\")\n",
    "\n",
    "# Create variables to represent the squares of the edge lengths\n",
    "a_squared = model.NewIntVar(1, var_range * var_range, \"a_squared\")\n",
    "b_squared = model.NewIntVar(1, var_range * var_range, \"b_squared\")\n",
    "c_squared = model.NewIntVar(1, var_range * var_range, \"c_squared\")\n",
    "d_squared = model.NewIntVar(1, var_range * var_range, \"d_squared\")\n",
    "e_squared = model.NewIntVar(1, var_range * var_range, \"e_squared\")\n",
    "f_squared = model.NewIntVar(1, var_range * var_range, \"f_squared\")\n",
    "\n",
    "# Add constraints to define the squares of the lengths\n",
    "model.AddMultiplicationEquality(a_squared, [a, a])\n",
    "model.AddMultiplicationEquality(b_squared, [b, b])\n",
    "model.AddMultiplicationEquality(c_squared, [c, c])\n",
    "model.AddMultiplicationEquality(d_squared, [d, d])\n",
    "model.AddMultiplicationEquality(e_squared, [e, e])\n",
    "model.AddMultiplicationEquality(f_squared, [f, f])\n",
    "\n",
    "# Define intermediate variables X, Y, Z\n",
    "X = model.NewIntVar(-var_range * var_range * 2, var_range * var_range * 2, \"X\")\n",
    "Y = model.NewIntVar(-var_range * var_range * 2, var_range * var_range * 2, \"Y\")\n",
    "Z = model.NewIntVar(-var_range * var_range * 2, var_range * var_range * 2, \"Z\")\n",
    "\n",
    "# Add equality constraints for X, Y, Z\n",
    "model.Add(X == b_squared + c_squared - d_squared)\n",
    "model.Add(Y == a_squared + c_squared - e_squared)\n",
    "model.Add(Z == a_squared + b_squared - f_squared)\n",
    "\n",
    "# Define intermediate variables for products\n",
    "a2b2 = model.NewIntVar(1, var_range**4, \"a2b2\")\n",
    "a2c2 = model.NewIntVar(1, var_range**4, \"a2c2\")\n",
    "b2c2 = model.NewIntVar(1, var_range**4, \"b2c2\")\n",
    "a2X = model.NewIntVar(-(var_range**4), var_range**4, \"a2X\")\n",
    "a2X2 = model.NewIntVar(1, 2 * var_range**4, \"a2X2\")\n",
    "b2Y = model.NewIntVar(-(var_range**4), var_range**4, \"b2Y\")\n",
    "b2Y2 = model.NewIntVar(1, 2 * var_range**4, \"b2Y2\")\n",
    "c2Z = model.NewIntVar(-(var_range**4), var_range**4, \"c2Z\")\n",
    "c2Z2 = model.NewIntVar(1, 2 * var_range**4, \"c2Z2\")\n",
    "XY = model.NewIntVar(-(var_range**4), var_range**4, \"XY\")\n",
    "XYZ = model.NewIntVar(-(var_range**6), var_range**6, \"XYZ\")\n",
    "a2b2c2 = model.NewIntVar(1, var_range**6, \"a2b2c2\")\n",
    "four_a2b2c2 = model.NewIntVar(1, var_range**6, \"four_a2b2c2\")\n",
    "# Define intermediate variables for the Heron's formula constraint\n",
    "s = model.NewIntVar(1, 3 * var_range, \"s\")\n",
    "s_a = model.NewIntVar(1, 3 * var_range, \"s_a\")\n",
    "s_b = model.NewIntVar(1, 3 * var_range, \"s_b\")\n",
    "s_c = model.NewIntVar(1, 3 * var_range, \"s_c\")\n",
    "heron_product = model.NewIntVar(1, var_range**3, \"heron_product\")\n",
    "\n",
    "# Add constraints for Heron's formula\n",
    "model.Add(s == a + b + c)\n",
    "model.Add(s_a == s - a)\n",
    "model.Add(s_b == s - b)\n",
    "model.Add(s_c == s - c)\n",
    "model.AddMultiplicationEquality(heron_product, [s, s_a, s_b, s_c])\n",
    "\n",
    "# Add the Heron's formula constraint\n",
    "model.Add(heron_product == 32).OnlyEnforceIf(model.NewBoolVar(\"heron_32\"))\n",
    "model.Add(heron_product == 128).OnlyEnforceIf(model.NewBoolVar(\"heron_128\"))\n",
    "model.AddMultiplicationEquality(a2b2, [a_squared, b_squared])\n",
    "model.AddMultiplicationEquality(a2c2, [a_squared, c_squared])\n",
    "model.AddMultiplicationEquality(b2c2, [b_squared, c_squared])\n",
    "model.AddMultiplicationEquality(a2X, [a_squared, X])\n",
    "model.AddMultiplicationEquality(a2X2, [a2X, X])\n",
    "model.AddMultiplicationEquality(b2Y, [b_squared, Y])\n",
    "model.AddMultiplicationEquality(b2Y2, [b2Y, Y])\n",
    "model.AddMultiplicationEquality(c2Z, [c_squared, Z])\n",
    "model.AddMultiplicationEquality(c2Z2, [c2Z, Z])\n",
    "model.AddMultiplicationEquality(XY, [X, Y])\n",
    "model.AddMultiplicationEquality(XYZ, [XY, Z])\n",
    "model.AddMultiplicationEquality(a2b2c2, [a2b2, c_squared])\n",
    "model.AddMultiplicationEquality(four_a2b2c2, [a2b2c2, 4])\n",
    "\n",
    "# Define the volume squared constraint using the new formula\n",
    "volume_squared = model.NewIntVar(0, 1000000, \"volume_squared\")\n",
    "model.Add(volume_squared == (four_a2b2c2 - a2X2 - b2Y2 - c2Z2 + XYZ))\n",
    "\n",
    "# Set the target volume squared constraint to match the requirement\n",
    "model.Add(volume_squared == 128)  # Adjust the target value as needed\n",
    "\n",
    "# Add triangle inequalities to ensure valid tetrahedron sides\n",
    "model.Add(a + b > c)\n",
    "model.Add(a + c > b)\n",
    "model.Add(b + c > a)\n",
    "model.Add(a + d > e)\n",
    "model.Add(a + e > d)\n",
    "model.Add(d + e > a)\n",
    "model.Add(b + d > f)\n",
    "model.Add(b + f > d)\n",
    "model.Add(d + f > b)\n",
    "model.Add(c + e > f)\n",
    "model.Add(c + f > e)\n",
    "model.Add(e + f > c)\n",
    "\n",
    "model.Add(a <= b)\n",
    "model.Add(b <= c)\n",
    "model.Add(c <= d)\n",
    "model.Add(d <= e)\n",
    "model.Add(e <= f)\n",
    "\n",
    "# Exclude the trivial solution [2, 2, 2, 2, 2, 2]\n",
    "model.Add(a != 2)\n",
    "# model.Add(b != 2)\n",
    "# model.Add(c != 2)\n",
    "# model.Add(d != 2)\n",
    "# model.Add(e != 2)\n",
    "# model.Add(f != 2)\n",
    "\n",
    "# Solver\n",
    "solver = cp_model.CpSolver()\n",
    "status = solver.Solve(model)\n",
    "\n",
    "# Output solution if found\n",
    "if status == cp_model.FEASIBLE or status == cp_model.OPTIMAL:\n",
    "    a_val = solver.Value(a)\n",
    "    b_val = solver.Value(b)\n",
    "    c_val = solver.Value(c)\n",
    "    d_val = solver.Value(d)\n",
    "    e_val = solver.Value(e)\n",
    "    f_val = solver.Value(f)\n",
    "\n",
    "    print(\"Solution:\")\n",
    "    print(f\"a = {a_val}, b = {b_val}, c = {c_val},\")\n",
    "    print(f\"d = {d_val}, e = {e_val}, f = {f_val}\")\n",
    "\n",
    "    # Verify the volume constraint\n",
    "    a2 = a_val**2\n",
    "    b2 = b_val**2\n",
    "    c2 = c_val**2\n",
    "    d2 = d_val**2\n",
    "    e2 = e_val**2\n",
    "    f2 = f_val**2\n",
    "\n",
    "    X_val = b2 + c2 - d2\n",
    "    Y_val = a2 + c2 - e2\n",
    "    Z_val = a2 + b2 - f2\n",
    "\n",
    "    volume_squared_val = (\n",
    "        4 * a2 * b2 * c2\n",
    "        - a2 * X_val * X_val\n",
    "        - b2 * Y_val * Y_val\n",
    "        - c2 * Z_val * Z_val\n",
    "        + X_val * Y_val * Z_val\n",
    "    )\n",
    "\n",
    "    volume_val = volume_squared_val / 288\n",
    "\n",
    "    print(f\"Computed volume squared constraint: {volume_squared_val}\")\n",
    "    print(f\"Computed volume constraint: {volume_val}\")\n",
    "    if volume_squared_val == 128:\n",
    "        print(\"The solution satisfies the volume constraint.\")\n",
    "    else:\n",
    "        print(\"The solution does not satisfy the volume constraint.\")\n",
    "else:\n",
    "    print(\"No solution found.\")"
   ]
  },
  {
   "cell_type": "code",
   "execution_count": null,
   "metadata": {},
   "outputs": [
    {
     "data": {
      "text/plain": [
       "-7225"
      ]
     },
     "execution_count": 16,
     "metadata": {},
     "output_type": "execute_result"
    }
   ],
   "source": [
    "a, b, c, x, y, z = 1, 2, 3, 5, 6, 4\n",
    "\n",
    "a2 = a * a\n",
    "b2 = b * b\n",
    "c2 = c * c\n",
    "x2 = x * x\n",
    "y2 = y * y\n",
    "z2 = z * z\n",
    "\n",
    "X_val = b2 + c2 - x2\n",
    "Y_val = a2 + c2 - y2\n",
    "Z_val = a2 + b2 - z2\n",
    "\n",
    "V_squared = (\n",
    "    4 * a2 * b2 * c2\n",
    "    - a2 * X_val * X_val\n",
    "    - b2 * Y_val * Y_val\n",
    "    - c2 * Z_val * Z_val\n",
    "    + X_val * Y_val * Z_val\n",
    ")\n",
    "V_squared"
   ]
  },
  {
   "cell_type": "code",
   "execution_count": 12,
   "metadata": {},
   "outputs": [],
   "source": [
    "from sympy import Symbol, expand, simplify, factor"
   ]
  },
  {
   "cell_type": "code",
   "execution_count": 3,
   "metadata": {},
   "outputs": [],
   "source": [
    "a, b, c, x, y, z = Symbol(\"a\"), Symbol(\"b\"), Symbol(\"c\"), Symbol(\"x\"), Symbol(\"y\"), Symbol(\"z\")"
   ]
  },
  {
   "cell_type": "code",
   "execution_count": 16,
   "metadata": {},
   "outputs": [],
   "source": [
    "expression_1 = 4*a**2*b**2*c**2 - a**2*(b**2 + c**2 - x**2)**2 - b**2*(a**2 + c**2 - y**2)**2 - c**2*(a**2 + b**2 - z**2)**2 + (b**2 + c**2 - x**2)*(a**2 + c**2 - y**2)*(a**2 + b**2 - z**2)\n",
    "expression_2 = ((x+y)**2 - z**2)*(x-y+z)*(-x+y+z)"
   ]
  },
  {
   "cell_type": "code",
   "execution_count": 17,
   "metadata": {},
   "outputs": [
    {
     "data": {
      "text/latex": [
       "$\\displaystyle 4 a^{2} b^{2} c^{2} - a^{2} \\left(b^{2} + c^{2} - x^{2}\\right)^{2} - b^{2} \\left(a^{2} + c^{2} - y^{2}\\right)^{2} - c^{2} \\left(a^{2} + b^{2} - z^{2}\\right)^{2} + \\left(z^{2} - \\left(x + y\\right)^{2}\\right) \\left(- x + y + z\\right) \\left(x - y + z\\right) + \\left(a^{2} + b^{2} - z^{2}\\right) \\left(a^{2} + c^{2} - y^{2}\\right) \\left(b^{2} + c^{2} - x^{2}\\right)$"
      ],
      "text/plain": [
       "4*a**2*b**2*c**2 - a**2*(b**2 + c**2 - x**2)**2 - b**2*(a**2 + c**2 - y**2)**2 - c**2*(a**2 + b**2 - z**2)**2 + (z**2 - (x + y)**2)*(-x + y + z)*(x - y + z) + (a**2 + b**2 - z**2)*(a**2 + c**2 - y**2)*(b**2 + c**2 - x**2)"
      ]
     },
     "execution_count": 17,
     "metadata": {},
     "output_type": "execute_result"
    }
   ],
   "source": [
    "simplify(expression_1 - expression_2)"
   ]
  },
  {
   "cell_type": "code",
   "execution_count": 18,
   "metadata": {},
   "outputs": [
    {
     "data": {
      "text/latex": [
       "$\\displaystyle - \\left(x - y - z\\right) \\left(x - y + z\\right) \\left(x + y - z\\right) \\left(x + y + z\\right)$"
      ],
      "text/plain": [
       "-(x - y - z)*(x - y + z)*(x + y - z)*(x + y + z)"
      ]
     },
     "execution_count": 18,
     "metadata": {},
     "output_type": "execute_result"
    }
   ],
   "source": [
    "factor(expand(expression_2))"
   ]
  },
  {
   "cell_type": "code",
   "execution_count": 37,
   "metadata": {},
   "outputs": [],
   "source": [
    "a, b, c, x, y, z = 2, 2, 2, 2, 2, 2"
   ]
  },
  {
   "cell_type": "code",
   "execution_count": 38,
   "metadata": {},
   "outputs": [
    {
     "data": {
      "text/plain": [
       "128"
      ]
     },
     "execution_count": 38,
     "metadata": {},
     "output_type": "execute_result"
    }
   ],
   "source": [
    "4*a**2*b**2*c**2 - a**2*(b**2 + c**2 - x**2)**2 - b**2*(a**2 + c**2 - y**2)**2 - c**2*(a**2 + b**2 - z**2)**2 + (b**2 + c**2 - x**2)*(a**2 + c**2 - y**2)*(a**2 + b**2 - z**2)"
   ]
  },
  {
   "cell_type": "code",
   "execution_count": 19,
   "metadata": {},
   "outputs": [
    {
     "data": {
      "text/latex": [
       "$\\displaystyle - a^{4} x^{2} + a^{2} b^{2} x^{2} + a^{2} b^{2} y^{2} - a^{2} b^{2} z^{2} + a^{2} c^{2} x^{2} - a^{2} c^{2} y^{2} + a^{2} c^{2} z^{2} - a^{2} x^{4} + a^{2} x^{2} y^{2} + a^{2} x^{2} z^{2} - b^{4} y^{2} - b^{2} c^{2} x^{2} + b^{2} c^{2} y^{2} + b^{2} c^{2} z^{2} + b^{2} x^{2} y^{2} - b^{2} y^{4} + b^{2} y^{2} z^{2} - c^{4} z^{2} + c^{2} x^{2} z^{2} + c^{2} y^{2} z^{2} - c^{2} z^{4} + x^{4} - x^{2} y^{2} z^{2} - 2 x^{2} y^{2} - 2 x^{2} z^{2} + y^{4} - 2 y^{2} z^{2} + z^{4}$"
      ],
      "text/plain": [
       "-a**4*x**2 + a**2*b**2*x**2 + a**2*b**2*y**2 - a**2*b**2*z**2 + a**2*c**2*x**2 - a**2*c**2*y**2 + a**2*c**2*z**2 - a**2*x**4 + a**2*x**2*y**2 + a**2*x**2*z**2 - b**4*y**2 - b**2*c**2*x**2 + b**2*c**2*y**2 + b**2*c**2*z**2 + b**2*x**2*y**2 - b**2*y**4 + b**2*y**2*z**2 - c**4*z**2 + c**2*x**2*z**2 + c**2*y**2*z**2 - c**2*z**4 + x**4 - x**2*y**2*z**2 - 2*x**2*y**2 - 2*x**2*z**2 + y**4 - 2*y**2*z**2 + z**4"
      ]
     },
     "execution_count": 19,
     "metadata": {},
     "output_type": "execute_result"
    }
   ],
   "source": [
    "factor(expression_1-expression_2)"
   ]
  },
  {
   "cell_type": "code",
   "execution_count": null,
   "metadata": {},
   "outputs": [],
   "source": []
  }
 ],
 "metadata": {
  "kernelspec": {
   "display_name": "KaggleAriel",
   "language": "python",
   "name": "python3"
  },
  "language_info": {
   "codemirror_mode": {
    "name": "ipython",
    "version": 3
   },
   "file_extension": ".py",
   "mimetype": "text/x-python",
   "name": "python",
   "nbconvert_exporter": "python",
   "pygments_lexer": "ipython3",
   "version": "3.12.5"
  }
 },
 "nbformat": 4,
 "nbformat_minor": 2
}
